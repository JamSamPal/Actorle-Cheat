{
 "cells": [
  {
   "cell_type": "markdown",
   "id": "d0cbb74a-2d25-4378-b0f3-5ab67a552b8d",
   "metadata": {},
   "source": [
    "# **Optimal Actorle Strategy**"
   ]
  },
  {
   "cell_type": "markdown",
   "id": "f55e0d10-34bc-4d15-9d28-26aee36ddb71",
   "metadata": {},
   "source": [
    "## **Introduction**"
   ]
  },
  {
   "cell_type": "markdown",
   "id": "fb1b8cec-e023-4aa8-85ed-7a5c74c42883",
   "metadata": {},
   "source": [
    "### [Actorle](https://actorle.com/) is a fantastic game that is like wordle for actors where you have to guess the actor of the day given their filmography. However, the titles of their films are blanked out. Instead, you have access to the films' genres and IMDB scores. If you guess the wrong actor but they share a film with the right one, this film will be revealed. \n",
    "\n",
    "### Can we use data science to win at this game?"
   ]
  },
  {
   "cell_type": "markdown",
   "id": "4f435bfe-63e5-4f7e-b3d3-5d43c7082149",
   "metadata": {},
   "source": [
    "## **Method**"
   ]
  },
  {
   "cell_type": "markdown",
   "id": "183356f7-79f7-4293-a639-a119636fff48",
   "metadata": {},
   "source": [
    "### First, we should find a database of movies and their actors. Such a dataset can be found [here](https://www.kaggle.com/datasets/juzershakir/tmdb-movies-dataset?rvi=1). Our intuition tells us that we should look for the most popular actor in the database."
   ]
  },
  {
   "cell_type": "markdown",
   "id": "201dca46-5d3c-4362-a2e8-9af0a4070438",
   "metadata": {},
   "source": [
    "### This is a good start, but it neglects a crucial bit of information: the genre of films. Therefore we should also find the most popular actor by genre."
   ]
  },
  {
   "cell_type": "markdown",
   "id": "9e05b0de-3b88-4492-b584-abbcf981d0f1",
   "metadata": {},
   "source": [
    "### These two classes are obviously good for Actorle but there is another class which is also important. We remind that guessing an actor who shares a lot of films with the correct answer will reveal the names of the films they share (as per the rules) providing useful information. Thus, we should also look for the actor who has appeared in the most films shared with other popular actors, essentially the ['Kevin Bacon'](https://simple.wikipedia.org/wiki/Bacon_number#:~:text=The%20Bacon%20number%20of%20an,concept%20to%20the%20movie%20industry.) of popular movie stars. "
   ]
  },
  {
   "cell_type": "markdown",
   "id": "c44cd414-4e82-44a0-a27e-8a476bc0c2f1",
   "metadata": {},
   "source": [
    "## **1) Most popular actor (regardless of genre)**"
   ]
  },
  {
   "cell_type": "code",
   "execution_count": 1,
   "id": "d228f33c-70fe-4f2a-a5d6-4f23f778e630",
   "metadata": {},
   "outputs": [],
   "source": [
    "import pandas as pd\n",
    "import numpy as np"
   ]
  },
  {
   "cell_type": "code",
   "execution_count": 2,
   "id": "0541b992-f1c9-412a-b332-d87853f9674f",
   "metadata": {},
   "outputs": [],
   "source": [
    "#import dataset\n",
    "data = pd.read_csv('tmdb_movies_data.csv')"
   ]
  },
  {
   "cell_type": "code",
   "execution_count": 3,
   "id": "b8f933dc-5b9b-4486-bef9-637234e23aed",
   "metadata": {},
   "outputs": [],
   "source": [
    "#clean data\n",
    "data = data[data[\"cast\"].isnull() == False]\n",
    "data = data[data[\"genres\"].isnull() == False]\n",
    "data = data[data.budget_adj != 0]\n",
    "data = data[data.revenue_adj != 0]"
   ]
  },
  {
   "cell_type": "code",
   "execution_count": 4,
   "id": "e19ca147-fc6f-4d00-b4fa-40974677de20",
   "metadata": {},
   "outputs": [
    {
     "data": {
      "text/html": [
       "<div>\n",
       "<style scoped>\n",
       "    .dataframe tbody tr th:only-of-type {\n",
       "        vertical-align: middle;\n",
       "    }\n",
       "\n",
       "    .dataframe tbody tr th {\n",
       "        vertical-align: top;\n",
       "    }\n",
       "\n",
       "    .dataframe thead th {\n",
       "        text-align: right;\n",
       "    }\n",
       "</style>\n",
       "<table border=\"1\" class=\"dataframe\">\n",
       "  <thead>\n",
       "    <tr style=\"text-align: right;\">\n",
       "      <th></th>\n",
       "      <th>original_title</th>\n",
       "      <th>popularity</th>\n",
       "      <th>genres</th>\n",
       "      <th>cast</th>\n",
       "      <th>vote_average</th>\n",
       "    </tr>\n",
       "  </thead>\n",
       "  <tbody>\n",
       "    <tr>\n",
       "      <th>0</th>\n",
       "      <td>Jurassic World</td>\n",
       "      <td>32.985763</td>\n",
       "      <td>Action|Adventure|Science Fiction|Thriller</td>\n",
       "      <td>Chris Pratt|Bryce Dallas Howard|Irrfan Khan|Vi...</td>\n",
       "      <td>6.5</td>\n",
       "    </tr>\n",
       "    <tr>\n",
       "      <th>1</th>\n",
       "      <td>Mad Max: Fury Road</td>\n",
       "      <td>28.419936</td>\n",
       "      <td>Action|Adventure|Science Fiction|Thriller</td>\n",
       "      <td>Tom Hardy|Charlize Theron|Hugh Keays-Byrne|Nic...</td>\n",
       "      <td>7.1</td>\n",
       "    </tr>\n",
       "    <tr>\n",
       "      <th>2</th>\n",
       "      <td>Insurgent</td>\n",
       "      <td>13.112507</td>\n",
       "      <td>Adventure|Science Fiction|Thriller</td>\n",
       "      <td>Shailene Woodley|Theo James|Kate Winslet|Ansel...</td>\n",
       "      <td>6.3</td>\n",
       "    </tr>\n",
       "    <tr>\n",
       "      <th>3</th>\n",
       "      <td>Star Wars: The Force Awakens</td>\n",
       "      <td>11.173104</td>\n",
       "      <td>Action|Adventure|Science Fiction|Fantasy</td>\n",
       "      <td>Harrison Ford|Mark Hamill|Carrie Fisher|Adam D...</td>\n",
       "      <td>7.5</td>\n",
       "    </tr>\n",
       "    <tr>\n",
       "      <th>4</th>\n",
       "      <td>Furious 7</td>\n",
       "      <td>9.335014</td>\n",
       "      <td>Action|Crime|Thriller</td>\n",
       "      <td>Vin Diesel|Paul Walker|Jason Statham|Michelle ...</td>\n",
       "      <td>7.3</td>\n",
       "    </tr>\n",
       "    <tr>\n",
       "      <th>5</th>\n",
       "      <td>The Revenant</td>\n",
       "      <td>9.110700</td>\n",
       "      <td>Western|Drama|Adventure|Thriller</td>\n",
       "      <td>Leonardo DiCaprio|Tom Hardy|Will Poulter|Domhn...</td>\n",
       "      <td>7.2</td>\n",
       "    </tr>\n",
       "    <tr>\n",
       "      <th>6</th>\n",
       "      <td>Terminator Genisys</td>\n",
       "      <td>8.654359</td>\n",
       "      <td>Science Fiction|Action|Thriller|Adventure</td>\n",
       "      <td>Arnold Schwarzenegger|Jason Clarke|Emilia Clar...</td>\n",
       "      <td>5.8</td>\n",
       "    </tr>\n",
       "    <tr>\n",
       "      <th>7</th>\n",
       "      <td>The Martian</td>\n",
       "      <td>7.667400</td>\n",
       "      <td>Drama|Adventure|Science Fiction</td>\n",
       "      <td>Matt Damon|Jessica Chastain|Kristen Wiig|Jeff ...</td>\n",
       "      <td>7.6</td>\n",
       "    </tr>\n",
       "    <tr>\n",
       "      <th>8</th>\n",
       "      <td>Minions</td>\n",
       "      <td>7.404165</td>\n",
       "      <td>Family|Animation|Adventure|Comedy</td>\n",
       "      <td>Sandra Bullock|Jon Hamm|Michael Keaton|Allison...</td>\n",
       "      <td>6.5</td>\n",
       "    </tr>\n",
       "    <tr>\n",
       "      <th>9</th>\n",
       "      <td>Inside Out</td>\n",
       "      <td>6.326804</td>\n",
       "      <td>Comedy|Animation|Family</td>\n",
       "      <td>Amy Poehler|Phyllis Smith|Richard Kind|Bill Ha...</td>\n",
       "      <td>8.0</td>\n",
       "    </tr>\n",
       "  </tbody>\n",
       "</table>\n",
       "</div>"
      ],
      "text/plain": [
       "                 original_title  popularity  \\\n",
       "0                Jurassic World   32.985763   \n",
       "1            Mad Max: Fury Road   28.419936   \n",
       "2                     Insurgent   13.112507   \n",
       "3  Star Wars: The Force Awakens   11.173104   \n",
       "4                     Furious 7    9.335014   \n",
       "5                  The Revenant    9.110700   \n",
       "6            Terminator Genisys    8.654359   \n",
       "7                   The Martian    7.667400   \n",
       "8                       Minions    7.404165   \n",
       "9                    Inside Out    6.326804   \n",
       "\n",
       "                                      genres  \\\n",
       "0  Action|Adventure|Science Fiction|Thriller   \n",
       "1  Action|Adventure|Science Fiction|Thriller   \n",
       "2         Adventure|Science Fiction|Thriller   \n",
       "3   Action|Adventure|Science Fiction|Fantasy   \n",
       "4                      Action|Crime|Thriller   \n",
       "5           Western|Drama|Adventure|Thriller   \n",
       "6  Science Fiction|Action|Thriller|Adventure   \n",
       "7            Drama|Adventure|Science Fiction   \n",
       "8          Family|Animation|Adventure|Comedy   \n",
       "9                    Comedy|Animation|Family   \n",
       "\n",
       "                                                cast  vote_average  \n",
       "0  Chris Pratt|Bryce Dallas Howard|Irrfan Khan|Vi...           6.5  \n",
       "1  Tom Hardy|Charlize Theron|Hugh Keays-Byrne|Nic...           7.1  \n",
       "2  Shailene Woodley|Theo James|Kate Winslet|Ansel...           6.3  \n",
       "3  Harrison Ford|Mark Hamill|Carrie Fisher|Adam D...           7.5  \n",
       "4  Vin Diesel|Paul Walker|Jason Statham|Michelle ...           7.3  \n",
       "5  Leonardo DiCaprio|Tom Hardy|Will Poulter|Domhn...           7.2  \n",
       "6  Arnold Schwarzenegger|Jason Clarke|Emilia Clar...           5.8  \n",
       "7  Matt Damon|Jessica Chastain|Kristen Wiig|Jeff ...           7.6  \n",
       "8  Sandra Bullock|Jon Hamm|Michael Keaton|Allison...           6.5  \n",
       "9  Amy Poehler|Phyllis Smith|Richard Kind|Bill Ha...           8.0  "
      ]
     },
     "execution_count": 4,
     "metadata": {},
     "output_type": "execute_result"
    }
   ],
   "source": [
    "#subset of data relevant for actorle\n",
    "actorle = data[['original_title','popularity', 'genres','cast', 'vote_average']]\n",
    "\n",
    "actorle.head(10)"
   ]
  },
  {
   "cell_type": "code",
   "execution_count": 5,
   "id": "daf7d45f-8baf-440b-996e-4153f939cf08",
   "metadata": {},
   "outputs": [
    {
     "name": "stdout",
     "output_type": "stream",
     "text": [
      "The twenty most popular actors are\n",
      "\n",
      "1 Robert De Niro\n",
      "2 Bruce Willis\n",
      "3 Samuel L. Jackson\n",
      "4 Nicolas Cage\n",
      "5 Matt Damon\n",
      "6 Johnny Depp\n",
      "7 Harrison Ford\n",
      "8 Brad Pitt\n",
      "9 Tom Hanks\n",
      "10 Sylvester Stallone\n",
      "11 Morgan Freeman\n",
      "12 Tom Cruise\n",
      "13 Denzel Washington\n",
      "14 Eddie Murphy\n",
      "15 Liam Neeson\n",
      "16 Owen Wilson\n",
      "17 Julianne Moore\n",
      "18 Arnold Schwarzenegger\n",
      "19 Mark Wahlberg\n",
      "20 Meryl Streep\n"
     ]
    }
   ],
   "source": [
    "actors = actorle['cast']\n",
    "actors = actors.str.split('|')\n",
    "freq = {}\n",
    "\n",
    "# Using a hashmap to total prevalence\n",
    "for i in actors:\n",
    "    for j in i:\n",
    "        if j in freq:\n",
    "            freq[j]+=1\n",
    "        else:\n",
    "            freq[j]=1\n",
    "\n",
    "# Sorting data\n",
    "freq = sorted(freq.items(), key=lambda x:x[1], reverse = True)\n",
    "print('The twenty most popular actors are')\n",
    "print()\n",
    "for i,j in enumerate(freq[:20]):\n",
    "    print(i+1,j[0])\n",
    "\n"
   ]
  },
  {
   "cell_type": "markdown",
   "id": "e926f857-aa16-475c-b00e-65aae733a585",
   "metadata": {},
   "source": [
    "### It is clear from the data above that a really good guess would be something like Robert De Niro, Bruce Willis or Samuel L. Jackson. Of course, we have not taken into account genre which is a crucial bit of information actorle gives us. We do that next."
   ]
  },
  {
   "cell_type": "markdown",
   "id": "8f645555-f973-4582-b64d-1d54dceeb397",
   "metadata": {},
   "source": [
    "## **2) Most popular actor by genre**"
   ]
  },
  {
   "cell_type": "code",
   "execution_count": 6,
   "id": "03617f79-473d-4356-8d9d-ceb7c0514706",
   "metadata": {},
   "outputs": [
    {
     "name": "stdout",
     "output_type": "stream",
     "text": [
      "List of genres:\n",
      "['Action', 'Adventure', 'Science Fiction', 'Thriller', 'Fantasy', 'Crime', 'Western', 'Drama', 'Family', 'Animation', 'Comedy', 'Mystery', 'Romance', 'War', 'History', 'Music', 'Horror', 'Documentary', 'Foreign', 'TV Movie']\n",
      "\n",
      "The twenty most popular actors in the genre of Drama are:\n",
      "\n",
      "1 Samuel L. Jackson\n",
      "2 Robert De Niro\n",
      "3 Tom Hanks\n",
      "4 Meryl Streep\n",
      "5 Dennis Quaid\n",
      "6 Brad Pitt\n",
      "7 Alec Baldwin\n",
      "8 Keanu Reeves\n",
      "9 Ben Affleck\n",
      "10 Dwayne Johnson\n",
      "11 Arnold Schwarzenegger\n",
      "12 Helena Bonham Carter\n",
      "13 Steve Carell\n",
      "14 Tom Cruise\n",
      "15 James Franco\n",
      "16 Owen Wilson\n",
      "17 Julia Roberts\n",
      "18 Ben Stiller\n",
      "19 Tommy Lee Jones\n",
      "20 Greg Kinnear\n"
     ]
    }
   ],
   "source": [
    "genres = actorle['genres']\n",
    "genres = genres.str.split('|')\n",
    "\n",
    "# Making a list of all genres with index keys\n",
    "genre_list = []\n",
    "for i in genres:\n",
    "    for j in i:\n",
    "        if j not in genre_list:\n",
    "            genre_list.append(j)\n",
    "\n",
    "print('List of genres:')\n",
    "print(genre_list)\n",
    "print()\n",
    "genre_list_keys = {}\n",
    "for i,j in enumerate(genre_list):\n",
    "    genre_list_keys[j] = i\n",
    "\n",
    "\n",
    "# Preparing a dictionary with entries: {... actor: (genre_list[0].freq, genre_list[1].freq...)...)}\n",
    "actor_genre_freq = {}\n",
    "for i in actors:\n",
    "    for j in i:\n",
    "        if j not in actor_genre_freq:\n",
    "            actor_genre_freq[j] = [0]*len(genre_list)        \n",
    "            \n",
    "# Filling dictionary\n",
    "for i,j in enumerate(actors):\n",
    "    for actor in j:\n",
    "        try:\n",
    "            for genre in genres[i]:\n",
    "                actor_genre_freq[actor][genre_list_keys[genre]]+=1\n",
    "        except KeyError:\n",
    "            pass\n",
    "            \n",
    "# Now one can find greatest appearances per genre, e.g. action       \n",
    "genre = 'Drama'\n",
    "actor_genre_freq_ans= sorted(actor_genre_freq.items(), key=lambda x:x[1][genre_list_keys[genre]], reverse = True)  \n",
    "\n",
    "print('The twenty most popular actors in the genre of %s are:' %genre)\n",
    "print()\n",
    "for i,j in enumerate(actor_genre_freq_ans[:20]):\n",
    "    print(i+1,j[0])"
   ]
  },
  {
   "cell_type": "markdown",
   "id": "ef2ed2a8-b9ee-40f8-bc6c-7d0c220701e9",
   "metadata": {},
   "source": [
    "### If one checks out 'Action', 'Adventure', 'Drama', 'Crime' Samuel. L. Jackson is near or at the top of all of them. He's looking like our best bet"
   ]
  },
  {
   "cell_type": "markdown",
   "id": "cc8c72db-e398-4ce6-9d88-3c7483e8352d",
   "metadata": {},
   "source": [
    "## **Rank actors based on appearances in top 10 of genres**"
   ]
  },
  {
   "cell_type": "markdown",
   "id": "86c21a42-395e-4fef-ba56-5edd68f0fdc0",
   "metadata": {},
   "source": [
    "### As a corollary we find the top actors across all genres. We find the top 10 per genre and give first 10 points, second 9 points etc and add them up."
   ]
  },
  {
   "cell_type": "code",
   "execution_count": 7,
   "id": "22244eb6-d69e-4304-8544-0effe89f26ab",
   "metadata": {},
   "outputs": [
    {
     "name": "stdout",
     "output_type": "stream",
     "text": [
      "The twenty top actors across all genres are:\n",
      "\n",
      "1 Samuel L. Jackson\n",
      "2 Tom Hanks\n",
      "3 Sandra Bullock\n",
      "4 Harrison Ford\n",
      "5 Arnold Schwarzenegger\n",
      "6 Bruce Willis\n",
      "7 Danny DeVito\n",
      "8 Robert De Niro\n",
      "9 Tom Cruise\n",
      "10 Meryl Streep\n",
      "11 Dennis Quaid\n",
      "12 Brad Pitt\n",
      "13 Michael Douglas\n",
      "14 Ben Stiller\n",
      "15 Gwyneth Paltrow\n",
      "16 Nicolas Cage\n",
      "17 Vincent D'Onofrio\n",
      "18 Gene Hackman\n",
      "19 Tom Hardy\n",
      "20 Sigourney Weaver\n"
     ]
    }
   ],
   "source": [
    "# We now award points based on genre positions\n",
    "top_actors = {}\n",
    "for g in genre_list:\n",
    "    for i,j in enumerate(sorted(actor_genre_freq.items(), key=lambda x:x[1][genre_list_keys[g]], reverse = True)[:10]):\n",
    "        if j[0] in top_actors:\n",
    "            top_actors[j[0]] += 10-i\n",
    "        else:\n",
    "            top_actors[j[0]] = 10-i\n",
    "            \n",
    "print('The twenty top actors across all genres are:')\n",
    "print()       \n",
    "for i,j in enumerate(sorted(top_actors.items(), key = lambda x:x[1], reverse = True)[:20]):\n",
    "    print(i+1,j[0])\n",
    "        \n",
    "        "
   ]
  },
  {
   "cell_type": "markdown",
   "id": "a4916759-9cf6-4244-bb65-b11450b354f7",
   "metadata": {},
   "source": [
    "## **Aside: list of movies for a given actor**"
   ]
  },
  {
   "cell_type": "code",
   "execution_count": 8,
   "id": "9bb053bf-9f48-414a-b354-c53afb36ecc8",
   "metadata": {},
   "outputs": [
    {
     "name": "stdout",
     "output_type": "stream",
     "text": [
      "Alicia Vikander has been in these films:\n",
      "\n",
      "['Ex Machina', 'The Last Witch Hunter', 'Everest', 'Burnt', \"Valentine's Day\"]\n"
     ]
    }
   ],
   "source": [
    "name_of_actor = 'Alicia Vikander'\n",
    "list_of_films = []\n",
    "\n",
    "for i,j in enumerate(actors):\n",
    "    for actor in j:\n",
    "        if actor == name_of_actor:\n",
    "            try:\n",
    "                list_of_films.append(actorle.loc[i, 'original_title'])\n",
    "            except KeyError:\n",
    "                pass\n",
    "print('%s has been in these films:' %name_of_actor)\n",
    "print()\n",
    "print(list_of_films)"
   ]
  },
  {
   "cell_type": "markdown",
   "id": "a75c21a5-b12e-45d8-bb62-53751cde2291",
   "metadata": {},
   "source": [
    "## **Aside aside: list of actors in a given film**"
   ]
  },
  {
   "cell_type": "code",
   "execution_count": 9,
   "id": "e2b4bd48-8e0c-4140-8ef3-c71be1e211f0",
   "metadata": {
    "scrolled": true
   },
   "outputs": [
    {
     "name": "stdout",
     "output_type": "stream",
     "text": [
      "Astro Boy has the following top-billed cast:\n",
      "\n",
      "[['Nicolas Cage', 'Kristen Bell', 'Bill Nighy', 'Donald Sutherland', 'Freddie Highmore']]\n"
     ]
    }
   ],
   "source": [
    "name_of_film = \"Astro Boy\"\n",
    "actor_list = actorle.loc[actorle['original_title'] == name_of_film,'cast']\n",
    "print('%s has the following top-billed cast:' %name_of_film)\n",
    "print()\n",
    "print(list(actor_list.str.split('|')))"
   ]
  },
  {
   "cell_type": "markdown",
   "id": "5633b5b2-4a8a-4553-b126-176c865df95d",
   "metadata": {},
   "source": [
    "## **'Kevin Bacon' of popular actors**"
   ]
  },
  {
   "cell_type": "markdown",
   "id": "e0fc36e3-02a7-4f98-9331-96b6e9449020",
   "metadata": {},
   "source": [
    "### Let us now find the 'Kevin Bacon' of popular actors. We know the top actors across all genres and we can find what films they have been in. Then, we go through our database of actors and if they appear in one of these films we give them a point."
   ]
  },
  {
   "cell_type": "code",
   "execution_count": 10,
   "id": "04e54594-e152-48f6-a46c-7fa0021eca19",
   "metadata": {},
   "outputs": [
    {
     "name": "stdout",
     "output_type": "stream",
     "text": [
      "Top twenty Bacon actors are:\n",
      "\n",
      "1 Steve Buscemi\n",
      "2 John Goodman\n",
      "3 Matt Damon\n",
      "4 Seth Rogen\n",
      "5 Elizabeth Banks\n",
      "6 Robert De Niro\n",
      "7 Heath Ledger\n",
      "8 Nicolas Cage\n",
      "9 Reese Witherspoon\n",
      "10 Vince Vaughn\n",
      "11 Sandra Bullock\n",
      "12 Jonah Hill\n",
      "13 Christopher Plummer\n",
      "14 Mickey Rourke\n",
      "15 Jim Cummings\n",
      "16 Ashley Judd\n",
      "17 Bryce Dallas Howard\n",
      "18 Christian Bale\n",
      "19 Jennifer Garner\n",
      "20 Samuel L. Jackson\n"
     ]
    }
   ],
   "source": [
    "# Finding our 'bacon_films': the films in which the most popular actors have appeared.\n",
    "bacon_films = []\n",
    "for i,j in enumerate(sorted(top_actors.items(), key = lambda x:x[1], reverse = True)[:20]):\n",
    "    name_of_actor = j[0]\n",
    "\n",
    "    for i,j in enumerate(actors):\n",
    "        for actor in j:\n",
    "            if actor == name_of_actor:\n",
    "                try:\n",
    "                    bacon_films.append(actorle.loc[i, 'original_title'])\n",
    "                except KeyError:\n",
    "                    pass\n",
    "\n",
    "# Finding our 'bacon_actors': actors who have appeared in bacon_films.\n",
    "bacon_actors = {}\n",
    "for i in bacon_films:\n",
    "    name_of_film = i\n",
    "    actor_list = actorle.loc[actorle['original_title'] == name_of_film,'cast'].str.split('|')\n",
    "    for j in actor_list:\n",
    "        for a in j:\n",
    "            if a in bacon_actors:\n",
    "                bacon_actors[a] +=1\n",
    "            else:\n",
    "                bacon_actors[a] = 1\n",
    "\n",
    "print('Top twenty Bacon actors are:')\n",
    "print()       \n",
    "for i,j in enumerate(sorted(bacon_actors.items(), key = lambda x:x[1], reverse = True)[:20]):\n",
    "    print(i+1,j[0])"
   ]
  },
  {
   "cell_type": "markdown",
   "id": "a087b87f-5d60-4e25-89e1-4c047025040a",
   "metadata": {},
   "source": [
    "### Interestingly, once we factor in top-billed cast in movies shared with the top actors we have different stars coming out on top. Steve Buscemi has been top-billed in the most films that have also starred the most popular actors"
   ]
  },
  {
   "cell_type": "markdown",
   "id": "ba8c7fa2-4b0f-4267-bcc0-2a27d9a2aa84",
   "metadata": {},
   "source": [
    "## **Testing**"
   ]
  },
  {
   "cell_type": "markdown",
   "id": "5738b012-862d-4ed9-8ac4-10c77cbf7add",
   "metadata": {},
   "source": [
    "### Let us now test what we've learnt on today's [Actorle](https://actorle.com/)."
   ]
  },
  {
   "cell_type": "markdown",
   "id": "d374ea8f-27d8-4406-bc0c-79d9d7a99889",
   "metadata": {},
   "source": [
    "## **Conclusions**"
   ]
  },
  {
   "cell_type": "markdown",
   "id": "9403f72c-04fc-44a5-a1b4-d2e1270915fb",
   "metadata": {},
   "source": [
    "### Weekly achievement before/after Data Science\n",
    "\n",
    "| | #Correct (/7) | Avg. Score (/8) |\n",
    "| --- | --- | --- |\n",
    "| **Before DS** |  3|7.00 |\n",
    "| **After DS** | 6 | 4.71|"
   ]
  },
  {
   "cell_type": "markdown",
   "id": "fce9fd48-f87e-43ac-bd3e-95db3bd8f285",
   "metadata": {},
   "source": [
    "### Several improvements can be made:\n",
    "\n",
    "### 1. Age is a vital yet practically unused bit of information that can help us narrow down and optimise our search.\n",
    "\n",
    "### 2. Useful to scrape from the Actorle website the genre counts so we know which genre is the most popular without having to manually count.\n",
    "\n",
    "### 3. In testing, it was clear several films have been omitted ultimately calling for a better, more complete dataset."
   ]
  }
 ],
 "metadata": {
  "kernelspec": {
   "display_name": "Python 3 (ipykernel)",
   "language": "python",
   "name": "python3"
  },
  "language_info": {
   "codemirror_mode": {
    "name": "ipython",
    "version": 3
   },
   "file_extension": ".py",
   "mimetype": "text/x-python",
   "name": "python",
   "nbconvert_exporter": "python",
   "pygments_lexer": "ipython3",
   "version": "3.11.5"
  }
 },
 "nbformat": 4,
 "nbformat_minor": 5
}
