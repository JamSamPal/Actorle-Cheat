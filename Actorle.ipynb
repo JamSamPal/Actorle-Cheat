{
 "cells": [
  {
   "cell_type": "markdown",
   "id": "d0cbb74a-2d25-4378-b0f3-5ab67a552b8d",
   "metadata": {},
   "source": [
    "# **Actorle Cheat Sheet**\n",
    "### [Actorle](https://actorle.com/) is a fantastic game that is like wordle for actors where you have to guess the actor given their filmography. However, the titles of their films are blanked out. Instead, you have access to the films' genres and IMDB scores. If you guess the wrong actor but they share a film with the right one, this film will be revealed. Can we use data science to win at this game?"
   ]
  },
  {
   "cell_type": "markdown",
   "id": "183356f7-79f7-4293-a639-a119636fff48",
   "metadata": {},
   "source": [
    "### Here we will find the most popular actor, the most popular actor by genre and then the actor who has appeared in the most films shared with other popular actors, essentially the ['Kevin Bacon'](https://simple.wikipedia.org/wiki/Bacon_number#:~:text=The%20Bacon%20number%20of%20an,concept%20to%20the%20movie%20industry.) of popular movie stars. The first two are obviously good for the game actorle but this last class is also important because guessing an actor who shares a lot of films with the correct answer will reveal the names of the films they share (as per the rules) providing useful information."
   ]
  },
  {
   "cell_type": "markdown",
   "id": "201dca46-5d3c-4362-a2e8-9af0a4070438",
   "metadata": {},
   "source": [
    "### The dataset we will be using can be found [here](https://www.kaggle.com/datasets/juzershakir/tmdb-movies-dataset?rvi=1)."
   ]
  },
  {
   "cell_type": "markdown",
   "id": "c44cd414-4e82-44a0-a27e-8a476bc0c2f1",
   "metadata": {},
   "source": [
    "## **1) Most popular actor (regardless of genre)**"
   ]
  },
  {
   "cell_type": "code",
   "execution_count": 1,
   "id": "d228f33c-70fe-4f2a-a5d6-4f23f778e630",
   "metadata": {},
   "outputs": [],
   "source": [
    "import pandas as pd\n",
    "import numpy as np"
   ]
  },
  {
   "cell_type": "code",
   "execution_count": 2,
   "id": "0541b992-f1c9-412a-b332-d87853f9674f",
   "metadata": {},
   "outputs": [],
   "source": [
    "data = pd.read_csv('tmdb_movies_data.csv')"
   ]
  },
  {
   "cell_type": "code",
   "execution_count": 3,
   "id": "b8f933dc-5b9b-4486-bef9-637234e23aed",
   "metadata": {},
   "outputs": [],
   "source": [
    "#clean data\n",
    "data = data[data[\"cast\"].isnull() == False]\n",
    "data = data[data[\"genres\"].isnull() == False]\n",
    "\n",
    "data = data[data.budget_adj != 0]\n",
    "data = data[data.revenue_adj != 0]"
   ]
  },
  {
   "cell_type": "code",
   "execution_count": 10,
   "id": "e19ca147-fc6f-4d00-b4fa-40974677de20",
   "metadata": {},
   "outputs": [
    {
     "data": {
      "text/plain": [
       "'Tomorrowland'"
      ]
     },
     "execution_count": 10,
     "metadata": {},
     "output_type": "execute_result"
    }
   ],
   "source": [
    "#subset of data relevant for actorle\n",
    "actorle = data[['original_title','popularity', 'genres','cast', 'vote_average']]\n",
    "\n",
    "actorle.head(10)"
   ]
  },
  {
   "cell_type": "code",
   "execution_count": 5,
   "id": "daf7d45f-8baf-440b-996e-4153f939cf08",
   "metadata": {},
   "outputs": [
    {
     "name": "stdout",
     "output_type": "stream",
     "text": [
      "The twenty most popular actors are\n",
      "\n",
      "1 Robert De Niro\n",
      "2 Bruce Willis\n",
      "3 Samuel L. Jackson\n",
      "4 Nicolas Cage\n",
      "5 Matt Damon\n",
      "6 Johnny Depp\n",
      "7 Harrison Ford\n",
      "8 Brad Pitt\n",
      "9 Tom Hanks\n",
      "10 Sylvester Stallone\n",
      "11 Morgan Freeman\n",
      "12 Tom Cruise\n",
      "13 Denzel Washington\n",
      "14 Eddie Murphy\n",
      "15 Liam Neeson\n",
      "16 Owen Wilson\n",
      "17 Julianne Moore\n",
      "18 Arnold Schwarzenegger\n",
      "19 Mark Wahlberg\n",
      "20 Meryl Streep\n"
     ]
    }
   ],
   "source": [
    "actors = actorle['cast']\n",
    "actors = actors.str.split('|')\n",
    "freq = {}\n",
    "for i in actors:\n",
    "    for j in i:\n",
    "        if j in freq:\n",
    "            freq[j]+=1\n",
    "        else:\n",
    "            freq[j]=1\n",
    "freq = sorted(freq.items(), key=lambda x:x[1], reverse = True)\n",
    "print('The twenty most popular actors are')\n",
    "print()\n",
    "for i,j in enumerate(freq[:20]):\n",
    "    print(i+1,j[0])\n",
    "\n"
   ]
  },
  {
   "cell_type": "markdown",
   "id": "e926f857-aa16-475c-b00e-65aae733a585",
   "metadata": {},
   "source": [
    "### It is clear from the data above that a really good guess would be something like Robert De Niro, Bruce Willis or Samuel L. Jackson. Of course, we have not taken into account genre which is a crucial bit of information actorle gives us. We do that next."
   ]
  },
  {
   "cell_type": "markdown",
   "id": "8f645555-f973-4582-b64d-1d54dceeb397",
   "metadata": {},
   "source": [
    "# **2) Most popular actor by genre**"
   ]
  },
  {
   "cell_type": "code",
   "execution_count": 6,
   "id": "03617f79-473d-4356-8d9d-ceb7c0514706",
   "metadata": {},
   "outputs": [
    {
     "name": "stdout",
     "output_type": "stream",
     "text": [
      "List of genres:\n",
      "['Action', 'Adventure', 'Science Fiction', 'Thriller', 'Fantasy', 'Crime', 'Western', 'Drama', 'Family', 'Animation', 'Comedy', 'Mystery', 'Romance', 'War', 'History', 'Music', 'Horror', 'Documentary', 'Foreign', 'TV Movie']\n",
      "\n",
      "The twenty most popular actors in the genre of Documentary are:\n",
      "\n",
      "1 Adam Sandler\n",
      "2 Kevin James\n",
      "3 Rachel McAdams\n",
      "4 Ellen Burstyn\n",
      "5 Cillian Murphy\n",
      "6 Selena Gomez\n",
      "7 Steve Buscemi\n",
      "8 Djimon Hounsou\n",
      "9 Edward Norton\n",
      "10 Evan Rachel Wood\n",
      "11 Danny Glover\n",
      "12 Linda Blair\n",
      "13 Max von Sydow\n",
      "14 Jayma Mays\n",
      "15 Ned Beatty\n",
      "16 Chris Brown\n",
      "17 David Morse\n",
      "18 Robert Carlyle\n",
      "19 Bruce Dern\n",
      "20 David Spade\n"
     ]
    }
   ],
   "source": [
    "genres = actorle['genres']\n",
    "genres = genres.str.split('|')\n",
    "\n",
    "# Making a list of all genres with index keys\n",
    "genre_list = []\n",
    "for i in genres:\n",
    "    for j in i:\n",
    "        if j not in genre_list:\n",
    "            genre_list.append(j)\n",
    "\n",
    "print('List of genres:')\n",
    "print(genre_list)\n",
    "print()\n",
    "genre_list_keys = {}\n",
    "for i,j in enumerate(genre_list):\n",
    "    genre_list_keys[j] = i\n",
    "\n",
    "\n",
    "# Preparing a dictionary with entries: {... actor: (genre_list[0].freq, genre_list[1].freq...)...)}\n",
    "actor_genre_freq = {}\n",
    "for i in actors:\n",
    "    for j in i:\n",
    "        if j not in actor_genre_freq:\n",
    "            actor_genre_freq[j] = [0]*len(genre_list)        \n",
    "# Filling dictionary\n",
    "for i,j in enumerate(actors):\n",
    "    for actor in j:\n",
    "        try:\n",
    "            for genre in genres[i]:\n",
    "                actor_genre_freq[actor][genre_list_keys[genre]]+=1\n",
    "        except KeyError:\n",
    "            pass\n",
    "            \n",
    "# Now one can find greatest appearances per genre, e.g. action       \n",
    "genre = 'Documentary'\n",
    "actor_genre_freq = sorted(actor_genre_freq.items(), key=lambda x:x[1][genre_list_keys[genre]], reverse = True)  \n",
    "\n",
    "print('The twenty most popular actors in the genre of %s are:' %genre)\n",
    "print()\n",
    "for i,j in enumerate(actor_genre_freq[:20]):\n",
    "    print(i+1,j[0])"
   ]
  },
  {
   "cell_type": "markdown",
   "id": "ef2ed2a8-b9ee-40f8-bc6c-7d0c220701e9",
   "metadata": {},
   "source": [
    "### If one checks out 'Action', 'Adventure', 'Drama', 'Crime' Samuel. L. Jackson is near or at the top of all of them. He's looking like our best bet"
   ]
  },
  {
   "cell_type": "markdown",
   "id": "a4916759-9cf6-4244-bb65-b11450b354f7",
   "metadata": {},
   "source": [
    "## **Aside: list of movies for a given actor**"
   ]
  },
  {
   "cell_type": "code",
   "execution_count": 18,
   "id": "9bb053bf-9f48-414a-b354-c53afb36ecc8",
   "metadata": {},
   "outputs": [
    {
     "name": "stdout",
     "output_type": "stream",
     "text": [
      "Laura Dern has been in these films:\n",
      "\n",
      "['The Interview', 'The Iron Lady']\n"
     ]
    }
   ],
   "source": [
    "name_of_actor = 'Laura Dern'\n",
    "list_of_films = []\n",
    "\n",
    "for i,j in enumerate(actors):\n",
    "    for actor in j:\n",
    "        if actor == name_of_actor:\n",
    "            try:\n",
    "                list_of_films.append(actorle.loc[i, 'original_title'])\n",
    "            except KeyError:\n",
    "                pass\n",
    "print('%s has been in these films:' %name_of_actor)\n",
    "print()\n",
    "print(list_of_films)"
   ]
  },
  {
   "cell_type": "markdown",
   "id": "a75c21a5-b12e-45d8-bb62-53751cde2291",
   "metadata": {},
   "source": [
    "## **Aside aside: list of actors in a given film**"
   ]
  },
  {
   "cell_type": "code",
   "execution_count": 27,
   "id": "e2b4bd48-8e0c-4140-8ef3-c71be1e211f0",
   "metadata": {},
   "outputs": [
    {
     "name": "stdout",
     "output_type": "stream",
     "text": [
      "The Dark Knight has the following top-billed cast:\n",
      "\n",
      "[['Christian Bale', 'Michael Caine', 'Heath Ledger', 'Aaron Eckhart', 'Gary Oldman']]\n"
     ]
    }
   ],
   "source": [
    "name_of_film = 'The Dark Knight'\n",
    "actor_list = actorle.loc[actorle['original_title'] == name_of_film,'cast']\n",
    "print('%s has the following top-billed cast:' %name_of_film)\n",
    "print()\n",
    "print(list(actor_list.str.split('|')))"
   ]
  },
  {
   "cell_type": "code",
   "execution_count": null,
   "id": "e2b83434-c491-4d10-ae7d-c5641c2acf35",
   "metadata": {},
   "outputs": [],
   "source": []
  }
 ],
 "metadata": {
  "kernelspec": {
   "display_name": "Python 3 (ipykernel)",
   "language": "python",
   "name": "python3"
  },
  "language_info": {
   "codemirror_mode": {
    "name": "ipython",
    "version": 3
   },
   "file_extension": ".py",
   "mimetype": "text/x-python",
   "name": "python",
   "nbconvert_exporter": "python",
   "pygments_lexer": "ipython3",
   "version": "3.11.5"
  }
 },
 "nbformat": 4,
 "nbformat_minor": 5
}
